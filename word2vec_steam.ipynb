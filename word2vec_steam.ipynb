{
 "cells": [
  {
   "cell_type": "code",
   "execution_count": 1,
   "id": "baafad15",
   "metadata": {},
   "outputs": [],
   "source": [
    "import pandas as pd\n",
    "import ast\n",
    "\n",
    "# Cargar datos de usuarios\n",
    "df_users = pd.read_csv(\"australian_user_items.csv\")\n",
    "df_users[\"items\"] = df_users[\"items\"].apply(ast.literal_eval)\n",
    "\n",
    "# Cargar metadatos de juegos\n",
    "df_meta = pd.read_csv(\"steam_juegos_metadata.csv\").fillna(\"\")\n",
    "df_meta[\"appid\"] = df_meta[\"appid\"].astype(str)\n"
   ]
  },
  {
   "cell_type": "code",
   "execution_count": 2,
   "id": "e49c235a",
   "metadata": {},
   "outputs": [
    {
     "name": "stderr",
     "output_type": "stream",
     "text": [
      "[nltk_data] Downloading package punkt to /home/alvaro/nltk_data...\n",
      "[nltk_data]   Package punkt is already up-to-date!\n",
      "[nltk_data] Downloading package stopwords to /home/alvaro/nltk_data...\n",
      "[nltk_data]   Package stopwords is already up-to-date!\n"
     ]
    }
   ],
   "source": [
    "from nltk.tokenize import word_tokenize\n",
    "from nltk.corpus import stopwords\n",
    "import re\n",
    "\n",
    "# Asegúrate de tener los stopwords\n",
    "import nltk\n",
    "nltk.download('punkt')\n",
    "nltk.download('stopwords')\n",
    "\n",
    "stopwords_en = set(stopwords.words(\"english\"))\n",
    "\n",
    "def limpiar_texto(texto):\n",
    "    texto = texto.lower()\n",
    "    texto = re.sub(r\"[^\\w\\s]\", \"\", texto)\n",
    "    tokens = word_tokenize(texto)\n",
    "    return [t for t in tokens if t not in stopwords_en and len(t) > 2]\n",
    "\n",
    "# --- 1. Corpus por usuario ---\n",
    "corpus_usuarios = []\n",
    "for row in df_users.itertuples():\n",
    "    juegos = [j[\"item_id\"] for j in row.items if \"item_id\" in j]\n",
    "    if len(juegos) > 1:\n",
    "        corpus_usuarios.append(juegos)\n",
    "\n",
    "# --- 2. Corpus por juego con refuerzo de géneros y categorías ---\n",
    "corpus_metadata = []\n",
    "\n",
    "for row in df_meta.itertuples():\n",
    "    tokens = [row.appid]  # El propio ID como token principal\n",
    "    tokens += limpiar_texto(row.name)\n",
    "    tokens += limpiar_texto(row.short_description)\n",
    "    tokens += limpiar_texto(\" \".join(row.developers))\n",
    "\n",
    "    # Reforzar géneros (x3) y categorías (x2)\n",
    "    if row.genres:\n",
    "        tokens += limpiar_texto(row.genres) * 3\n",
    "    if row.categories:\n",
    "        tokens += limpiar_texto(row.categories) * 2\n",
    "\n",
    "    corpus_metadata.append(tokens)\n",
    "\n",
    "# --- 3. Combinar corpus ---\n",
    "corpus_total = corpus_usuarios + corpus_metadata\n"
   ]
  },
  {
   "cell_type": "code",
   "execution_count": 3,
   "id": "148334f8",
   "metadata": {},
   "outputs": [
    {
     "name": "stdout",
     "output_type": "stream",
     "text": [
      "✅ Modelo Word2Vec entrenado y guardado como 'modelo_word2vec_mejorado.model'\n"
     ]
    }
   ],
   "source": [
    "from gensim.models import Word2Vec\n",
    "\n",
    "modelo_w2v = Word2Vec(\n",
    "    sentences=corpus_total,\n",
    "    vector_size=100,     # tamaño del embedding\n",
    "    window=5,            # tamaño de la ventana de contexto\n",
    "    min_count=2,         # ignora tokens con menos de 2 apariciones\n",
    "    sg=1,                # 1 = skip-gram (mejor para recomendaciones)\n",
    "    workers=4,           # núcleos para paralelizar\n",
    "    epochs=10            # número de épocas de entrenamiento\n",
    ")\n",
    "\n",
    "modelo_w2v.save(\"modelo_word2vec_mejorado.model\")\n",
    "print(\"✅ Modelo Word2Vec entrenado y guardado como 'modelo_word2vec_mejorado.model'\")\n"
   ]
  },
  {
   "cell_type": "code",
   "execution_count": 4,
   "id": "f8fc66af",
   "metadata": {},
   "outputs": [],
   "source": [
    "df_meta = pd.read_csv(\"steam_juegos_metadata.csv\").fillna(\"\")\n",
    "id_to_name = dict(zip(df_meta[\"appid\"].astype(str), df_meta[\"name\"]))\n"
   ]
  },
  {
   "cell_type": "code",
   "execution_count": null,
   "id": "8bcb5208",
   "metadata": {},
   "outputs": [],
   "source": [
    "def recomendar_similares(juego_id, modelo, id_to_name, topn=20):\n",
    "    if juego_id not in modelo.wv:\n",
    "        print(f\"⚠️ El juego {juego_id} no está en el modelo.\")\n",
    "        return []\n",
    "\n",
    "    similares = modelo.wv.most_similar(juego_id, topn=100)\n",
    "    recomendaciones = []\n",
    "\n",
    "    for item_id, score in similares:\n",
    "        if item_id in id_to_name:\n",
    "            recomendaciones.append((item_id, id_to_name[item_id], round(score, 4)))\n",
    "        if len(recomendaciones) >= topn:\n",
    "            break\n",
    "\n",
    "    return recomendaciones\n"
   ]
  },
  {
   "cell_type": "code",
   "execution_count": null,
   "id": "197a04f0",
   "metadata": {},
   "outputs": [
    {
     "name": "stdout",
     "output_type": "stream",
     "text": [
      "🎮 298110 - Far Cry® 4 (score: 0.8657)\n",
      "🎮 241930 - Middle-earth™: Shadow of Mordor™ (score: 0.7792)\n",
      "🎮 209650 - Call of Duty®: Advanced Warfare - Gold Edition (score: 0.7662)\n",
      "🎮 274940 - Depth (score: 0.7426)\n",
      "🎮 209660 - Call of Duty®: Advanced Warfare - Gold Edition (score: 0.7422)\n",
      "🎮 289690 - LARA CROFT AND THE TEMPLE OF OSIRIS™ (score: 0.7316)\n",
      "🎮 302510 - Ryse: Son of Rome (score: 0.7283)\n",
      "🎮 330840 - Game of Thrones - A Telltale Games Series (score: 0.7239)\n",
      "🎮 313690 - LEGO® Batman™ 3: Beyond Gotham (score: 0.7114)\n",
      "🎮 307690 - Sleeping Dogs: Definitive Edition (score: 0.7066)\n"
     ]
    }
   ],
   "source": [
    "from gensim.models import Word2Vec\n",
    "\n",
    "modelo = Word2Vec.load(\"modelo_word2vec_mejorado.model\")\n",
    "recomendaciones = recomendar_similares(\"298110\", modelo, id_to_name)  # ARK: Survival Evolved\n",
    "\n",
    "for item_id, nombre, score in recomendaciones:\n",
    "    print(f\"🎮 {item_id} - {nombre} (score: {score})\")\n"
   ]
  }
 ],
 "metadata": {
  "kernelspec": {
   "display_name": "venv",
   "language": "python",
   "name": "python3"
  },
  "language_info": {
   "codemirror_mode": {
    "name": "ipython",
    "version": 3
   },
   "file_extension": ".py",
   "mimetype": "text/x-python",
   "name": "python",
   "nbconvert_exporter": "python",
   "pygments_lexer": "ipython3",
   "version": "3.11.12"
  }
 },
 "nbformat": 4,
 "nbformat_minor": 5
}
