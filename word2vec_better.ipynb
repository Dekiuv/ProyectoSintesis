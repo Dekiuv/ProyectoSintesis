{
 "cells": [
  {
   "cell_type": "code",
   "execution_count": null,
   "id": "3c981389",
   "metadata": {},
   "outputs": [
    {
     "name": "stdout",
     "output_type": "stream",
     "text": [
      "📌 Información del DataFrame:\n",
      "<class 'pandas.core.frame.DataFrame'>\n",
      "RangeIndex: 8672618 entries, 0 to 8672617\n",
      "Data columns (total 9 columns):\n",
      " #   Column                 Dtype \n",
      "---  ------                 ----- \n",
      " 0   steam_id               int64 \n",
      " 1   appid                  int64 \n",
      " 2   name                   object\n",
      " 3   playtime_forever       int64 \n",
      " 4   playtime_2weeks        int64 \n",
      " 5   img_icon_url           object\n",
      " 6   has_stats              bool  \n",
      " 7   has_leaderboards       bool  \n",
      " 8   content_descriptorids  object\n",
      "dtypes: bool(2), int64(4), object(3)\n",
      "memory usage: 479.7+ MB\n",
      "None\n",
      "\n",
      "🔍 Primeras filas:\n",
      "            steam_id  appid                       name  playtime_forever  \\\n",
      "0  76561198235790210     50  Half-Life: Opposing Force                44   \n",
      "1  76561198235790210     70                  Half-Life               746   \n",
      "2  76561198235790210    130      Half-Life: Blue Shift                 0   \n",
      "3  76561198235790210    220                Half-Life 2               767   \n",
      "4  76561198235790210    320    Half-Life 2: Deathmatch                 0   \n",
      "\n",
      "   playtime_2weeks                              img_icon_url  has_stats  \\\n",
      "0                0  04e81206c10e12416908c72c5f22aad411b3aeef      False   \n",
      "1                0  95be6d131fc61f145797317ca437c9765f24b41c      False   \n",
      "2                0  b06fdee488b3220362c11704be4edad82abeed08      False   \n",
      "3                0  fcfb366051782b8ebf2aa297f3b746395858cb62       True   \n",
      "4                0  795e85364189511f4990861b578084deef086cb1      False   \n",
      "\n",
      "   has_leaderboards content_descriptorids  \n",
      "0             False                   2;5  \n",
      "1             False                   2;5  \n",
      "2             False                   2;5  \n",
      "3             False                   2;5  \n",
      "4             False                   2;5  \n",
      "\n",
      "🧱 Columnas:\n",
      "['steam_id', 'appid', 'name', 'playtime_forever', 'playtime_2weeks', 'img_icon_url', 'has_stats', 'has_leaderboards', 'content_descriptorids']\n"
     ]
    }
   ],
   "source": [
    "import pandas as pd\n",
    "\n",
    "# Cargar el archivo CSV\n",
    "ruta = \"usuarios_steam_detallado.csv\"\n",
    "df = pd.read_csv(ruta)\n",
    "\n",
    "# Mostrar información general del DataFrame\n",
    "print(\"📌 Información del DataFrame:\")\n",
    "print(df.info())\n",
    "print(\"\\n🔍 Primeras filas:\")\n",
    "print(df.head())\n",
    "print(\"\\n🧱 Columnas:\")\n",
    "print(df.columns.tolist())\n",
    "\n",
    "TIEMPO_MIN_JUGADO = 60\n",
    "TIEMPO_ULTIMAS_2_SEMANAS = 20\n",
    "MIN_USUARIOS_POR_JUEGO =100\n",
    "MIN_JUEGOS_POR_USUARIO = 3\n"
   ]
  },
  {
   "cell_type": "code",
   "execution_count": 201,
   "id": "5ad83845",
   "metadata": {},
   "outputs": [
    {
     "name": "stdout",
     "output_type": "stream",
     "text": [
      "✅ Dataset generado con 44921 juegos únicos.\n"
     ]
    }
   ],
   "source": [
    "import pandas as pd\n",
    "\n",
    "\n",
    "# Eliminar duplicados dejando solo appid y nombre\n",
    "juegos_unicos = df[[\"appid\", \"name\"]].drop_duplicates()\n",
    "\n",
    "# Guardar el resultado en un nuevo CSV\n",
    "juegos_unicos.to_csv(\"nombres_juegos.csv\", index=False)\n",
    "\n",
    "print(f\"✅ Dataset generado con {len(juegos_unicos)} juegos únicos.\")\n"
   ]
  },
  {
   "cell_type": "code",
   "execution_count": 202,
   "id": "5a0150b3",
   "metadata": {},
   "outputs": [
    {
     "name": "stdout",
     "output_type": "stream",
     "text": [
      "🗑️ Filas eliminadas: 8593144\n",
      "✅ Tamaño del DataFrame filtrado: (40391, 9)\n"
     ]
    }
   ],
   "source": [
    "# Leer el archivo de usuarios\n",
    "appids_a_quitar = [1366800,629520,438100,431960,2507950,1281930,714010]  # Puedes poner los que necesites\n",
    "\n",
    "# Filtrar el DataFrame eliminando los appids indicados\n",
    "df = df[~df['appid'].isin(appids_a_quitar)]\n",
    "# Filtrar el DataFrame para conservar solo los juegos jugados\n",
    "# df_filtrado = df[df[\"playtime_forever\"] > TIEMPO_MIN_JUGADO].copy()\n",
    "df_filtrado = df[df[\"playtime_2weeks\"] > TIEMPO_ULTIMAS_2_SEMANAS].copy()\n",
    "\n",
    "# Mostrar cuántas filas se han eliminado y el nuevo tamaño\n",
    "filas_eliminadas = len(df) - len(df_filtrado)\n",
    "print(f\"🗑️ Filas eliminadas: {filas_eliminadas}\")\n",
    "print(f\"✅ Tamaño del DataFrame filtrado: {df_filtrado.shape}\")\n"
   ]
  },
  {
   "cell_type": "code",
   "execution_count": 203,
   "id": "f0de7312",
   "metadata": {},
   "outputs": [
    {
     "name": "stdout",
     "output_type": "stream",
     "text": [
      "👤 Usuarios únicos: 15695\n",
      "🎮 Juegos únicos: 4571\n"
     ]
    }
   ],
   "source": [
    "usuarios_unicos = df_filtrado['steam_id'].nunique()\n",
    "juegos_unicos = df_filtrado['appid'].nunique()\n",
    "\n",
    "print(f\"👤 Usuarios únicos: {usuarios_unicos}\")\n",
    "print(f\"🎮 Juegos únicos: {juegos_unicos}\")\n"
   ]
  },
  {
   "cell_type": "code",
   "execution_count": 204,
   "id": "7452f5c3",
   "metadata": {},
   "outputs": [
    {
     "name": "stdout",
     "output_type": "stream",
     "text": [
      "📉 Tamaño del DataFrame tras limpieza adicional: (5785, 9)\n"
     ]
    }
   ],
   "source": [
    "# 1. Eliminar juegos jugados por menos de 10 usuarios\n",
    "juegos_con_10_usuarios = df_filtrado['appid'].value_counts()\n",
    "juegos_validos = juegos_con_10_usuarios[juegos_con_10_usuarios >= MIN_USUARIOS_POR_JUEGO].index\n",
    "df_filtrado = df_filtrado[df_filtrado['appid'].isin(juegos_validos)]\n",
    "\n",
    "# 2. Eliminar usuarios con menos de 5 juegos\n",
    "usuarios_con_5_juegos = df_filtrado['steam_id'].value_counts()\n",
    "usuarios_validos = usuarios_con_5_juegos[usuarios_con_5_juegos >= MIN_JUEGOS_POR_USUARIO].index\n",
    "df_filtrado = df_filtrado[df_filtrado['steam_id'].isin(usuarios_validos)]\n",
    "\n",
    "# Mostrar nuevo tamaño\n",
    "print(f\"📉 Tamaño del DataFrame tras limpieza adicional: {df_filtrado.shape}\")\n"
   ]
  },
  {
   "cell_type": "code",
   "execution_count": 205,
   "id": "d629d5af",
   "metadata": {},
   "outputs": [
    {
     "name": "stdout",
     "output_type": "stream",
     "text": [
      "🧩 Matriz de interacciones creada con forma: (1643, 65)\n"
     ]
    }
   ],
   "source": [
    "# Creamos la matriz usuario-juego con playtime_forever como valor\n",
    "from scipy.sparse import coo_matrix\n",
    "import numpy as np\n",
    "\n",
    "# Codificar usuarios y juegos como índices\n",
    "usuario_idx = {u: i for i, u in enumerate(df_filtrado['steam_id'].unique())}\n",
    "juego_idx = {j: i for i, j in enumerate(df_filtrado['appid'].unique())}\n",
    "\n",
    "# Crear listas de índices y valores\n",
    "user_ids = df_filtrado['steam_id'].map(usuario_idx)\n",
    "item_ids = df_filtrado['appid'].map(juego_idx)\n",
    "values = df_filtrado['playtime_forever'].astype(np.float32)\n",
    "\n",
    "# Crear matriz dispersa\n",
    "matriz_interacciones = coo_matrix((values, (user_ids, item_ids)))\n",
    "\n",
    "# Mostrar dimensiones\n",
    "print(f\"🧩 Matriz de interacciones creada con forma: {matriz_interacciones.shape}\")\n"
   ]
  },
  {
   "cell_type": "code",
   "execution_count": 206,
   "id": "339a6fef",
   "metadata": {},
   "outputs": [
    {
     "name": "stdout",
     "output_type": "stream",
     "text": [
      "📜 Secuencias ponderadas creadas: 1643\n",
      "🎮 Ejemplo: ['730', '730', '730', '730', '730', '730', '730', '730', '730', '730', '730', '730', '730', '730', '730', '730', '730', '730', '730', '730', '730', '730', '730', '730', '730', '730', '730', '730', '730', '730', '730', '730', '730', '730', '730', '730', '730', '730', '730', '730', '730', '730', '730', '730', '730', '730', '730', '730', '730', '730', '730', '730', '730', '730', '730', '730', '730', '730', '730', '730', '730', '730', '730', '730', '730', '730', '730', '730', '730', '730', '730', '730', '730', '730', '730', '730', '730', '730', '730', '730', '730', '730', '730', '730', '730', '730', '730', '730', '730', '730', '730', '730', '730', '730', '730', '730', '730', '730', '730', '730']\n"
     ]
    }
   ],
   "source": [
    "from collections import defaultdict\n",
    "import numpy as np\n",
    "\n",
    "# === Paso 1: Calcular popularidad global por appid ===\n",
    "popularidad = df_filtrado['appid'].value_counts(normalize=True).to_dict()\n",
    "\n",
    "# Normalizar la popularidad al rango [0.5, 1.5]\n",
    "min_pop, max_pop = min(popularidad.values()), max(popularidad.values())\n",
    "rango = max_pop - min_pop if max_pop != min_pop else 1\n",
    "popularidad_normalizada = {\n",
    "    str(appid): 0.5 + (valor - min_pop) / rango\n",
    "    for appid, valor in popularidad.items()\n",
    "}\n",
    "\n",
    "# === Paso 2: Crear secuencias ponderadas con popularidad y recencia ===\n",
    "user_sequences_weighted = []\n",
    "\n",
    "for user_id, group in df_filtrado.groupby('steam_id'):\n",
    "    juegos = []\n",
    "    for _, row in group.iterrows():\n",
    "        appid = str(row['appid'])  # Word2Vec usa strings\n",
    "        playtime = row['playtime_forever']\n",
    "        playtime_2w = row['playtime_2weeks']\n",
    "\n",
    "        # Base: peso por tiempo total jugado (máx 100)\n",
    "        base_peso = min(max(int(playtime // 60), 1), 100)\n",
    "\n",
    "        # Ajuste por popularidad\n",
    "        factor_pop = popularidad_normalizada.get(appid, 1.0)\n",
    "\n",
    "        # Ajuste por recencia (si ha jugado en las últimas 2 semanas)\n",
    "        # Normalizamos el tiempo a horas (máx 15h = factor 1.5)\n",
    "        horas_2w = playtime_2w / 60\n",
    "        factor_reciente = 1.0 + min(horas_2w / 30, 0.5)  # entre 1.0 y 1.5\n",
    "\n",
    "        # Peso final ajustado\n",
    "        peso = int(base_peso * factor_pop * factor_reciente)\n",
    "        juegos.extend([appid] * max(peso, 1))\n",
    "\n",
    "    if len(juegos) >= 2:\n",
    "        user_sequences_weighted.append(juegos)\n",
    "\n",
    "print(f\"📜 Secuencias ponderadas creadas: {len(user_sequences_weighted)}\")\n",
    "print(\"🎮 Ejemplo:\", user_sequences_weighted[0][:100])\n"
   ]
  },
  {
   "cell_type": "code",
   "execution_count": 207,
   "id": "e803019f",
   "metadata": {},
   "outputs": [
    {
     "name": "stdout",
     "output_type": "stream",
     "text": [
      "✅ Entrenamiento del modelo Word2Vec completado\n"
     ]
    }
   ],
   "source": [
    "from gensim.models import Word2Vec\n",
    "\n",
    "# Entrenamos el modelo Word2Vec\n",
    "model = Word2Vec(\n",
    "    sentences=user_sequences_weighted,\n",
    "    vector_size=100,     # Dimensión del vector de embedding\n",
    "    window=5,            # Tamaño del contexto\n",
    "    min_count=1,         # Mínimo de apariciones para ser considerado\n",
    "    workers=4,           # Núcleos para paralelizar\n",
    "    sg=1,                # Skip-gram (1) o CBOW (0)\n",
    "    epochs=200            # Número de épocas\n",
    ")\n",
    "\n",
    "print(\"✅ Entrenamiento del modelo Word2Vec completado\")\n",
    "model.save(\"word2vec_steam.model\")\n"
   ]
  },
  {
   "cell_type": "code",
   "execution_count": 208,
   "id": "5d4dc062",
   "metadata": {},
   "outputs": [],
   "source": [
    "def recomendar_juegos_word2vec_con_nombres(modelo, steam_id, api_key, topn=30, min_popularidad=0.05):\n",
    "    import requests\n",
    "    import pandas as pd\n",
    "\n",
    "    # Cargar nombres desde CSV\n",
    "    appid_to_name = pd.read_csv(\"nombres_juegos.csv\").set_index(\"appid\")[\"name\"].to_dict()\n",
    "\n",
    "    # Llamada a la API de Steam\n",
    "    url = f\"http://api.steampowered.com/IPlayerService/GetOwnedGames/v0001/?key={api_key}&steamid={steam_id}&include_appinfo=1&format=json\"\n",
    "\n",
    "    try:\n",
    "        response = requests.get(url)\n",
    "        response.raise_for_status()\n",
    "        data = response.json()\n",
    "\n",
    "        juegos_usuario = data.get(\"response\", {}).get(\"games\", [])\n",
    "        appids = [str(j[\"appid\"]) for j in juegos_usuario if j.get(\"playtime_forever\", 0) > 0]\n",
    "\n",
    "        if not appids:\n",
    "            return [], [], \"⚠️ El usuario no tiene juegos con tiempo jugado.\"\n",
    "\n",
    "    except Exception as e:\n",
    "        return [], [], f\"❌ Error al obtener juegos del usuario: {e}\"\n",
    "\n",
    "    # Filtrar appids válidos\n",
    "    appids_validos = [a for a in appids if a in modelo.wv.key_to_index]\n",
    "    ignorados = len(appids) - len(appids_validos)\n",
    "\n",
    "    jugados_nombres = [appid_to_name.get(int(a), f\"Unknown ({a})\") for a in appids_validos]\n",
    "\n",
    "    if not appids_validos:\n",
    "        return jugados_nombres, [], \"⚠️ Ningún juego jugado está en el vocabulario del modelo.\"\n",
    "\n",
    "    # Recomendaciones\n",
    "    try:\n",
    "        recomendaciones = modelo.wv.most_similar(appids_validos, topn=topn * 2)  # Pedimos más para poder filtrar luego\n",
    "        recomendados = []\n",
    "        for appid, similitud in recomendaciones:\n",
    "            frecuencia = modelo.wv.get_vecattr(appid, \"count\")\n",
    "            porcentaje = (frecuencia / modelo.corpus_total_words) * 100\n",
    "            if porcentaje < min_popularidad:\n",
    "                continue  # Ignoramos juegos con poca popularidad\n",
    "            nombre = appid_to_name.get(int(appid), f\"Unknown ({appid})\")\n",
    "            recomendados.append({\n",
    "                \"appid\": int(appid),\n",
    "                \"nombre\": nombre,\n",
    "                \"score_similitud\": round(similitud, 4),\n",
    "                \"popularidad_%\": round(porcentaje, 4)\n",
    "            })\n",
    "            if len(recomendados) >= topn:\n",
    "                break\n",
    "\n",
    "    except Exception as e:\n",
    "        return jugados_nombres, [], f\"❌ Error al generar recomendaciones: {e}\"\n",
    "\n",
    "    mensaje = \"✅ Recomendaciones generadas correctamente\"\n",
    "    if ignorados > 0:\n",
    "        mensaje += f\" (⚠️ {ignorados} juegos ignorados por no estar en el modelo)\"\n",
    "\n",
    "    return jugados_nombres, recomendados, mensaje\n"
   ]
  },
  {
   "cell_type": "code",
   "execution_count": 209,
   "id": "917ff883",
   "metadata": {},
   "outputs": [
    {
     "name": "stdout",
     "output_type": "stream",
     "text": [
      "🎮 Juegos jugados:\n",
      "\n",
      "✨ Recomendaciones:\n",
      "\n",
      "❌ Error al obtener juegos del usuario: 429 Client Error: Too Many Requests for url: http://api.steampowered.com/IPlayerService/GetOwnedGames/v0001/?key=F8A4003EBB12D2357E82A7D7ED29F694&steamid=76561198235790210&include_appinfo=1&format=json\n"
     ]
    }
   ],
   "source": [
    "jugados, recomendados, estado = recomendar_juegos_word2vec_con_nombres(model, \"76561198235790210\", \"F8A4003EBB12D2357E82A7D7ED29F694\")\n",
    "\n",
    "print(\"🎮 Juegos jugados:\")\n",
    "for nombre in jugados:\n",
    "    print(f\"- {nombre}\")\n",
    "\n",
    "print(\"\\n✨ Recomendaciones:\")\n",
    "for reco in recomendados:\n",
    "    print(f\"- {reco['nombre']} (ID: {reco['appid']}) | Similitud: {reco['score_similitud']:.4f} | Popularidad: {reco['popularidad_%']:.2f}%\")\n",
    "\n",
    "print(\"\\n\" + estado)\n"
   ]
  },
  {
   "cell_type": "code",
   "execution_count": 210,
   "id": "f3fc8350",
   "metadata": {},
   "outputs": [],
   "source": [
    "# import pandas as pd\n",
    "\n",
    "# # Cargar el archivo CSV\n",
    "# df = pd.read_csv(\"usuarios_steam_detallado.csv\")\n",
    "\n",
    "# # Solicitar el Steam ID\n",
    "# steam_id = input(\"Introduce el Steam ID del usuario: \").strip()\n",
    "\n",
    "# # Filtrar juegos jugados por ese usuario (playtime_forever > 0)\n",
    "# juegos_usuario = df[(df[\"steam_id\"] == int(steam_id)) & (df[\"playtime_forever\"] > 0)]\n",
    "\n",
    "# # Mostrar resultados\n",
    "# if juegos_usuario.empty:\n",
    "#     print(\"⚠️ Este usuario no tiene juegos con tiempo jugado o no existe en el archivo.\")\n",
    "# else:\n",
    "#     print(f\"\\n🎮 Juegos jugados por el usuario {steam_id}:\\n\")\n",
    "#     for _, fila in juegos_usuario.iterrows():\n",
    "#         nombre = fila[\"name\"]\n",
    "#         tiempo = fila[\"playtime_forever\"] // 60  # Pasar a horas aprox.\n",
    "#         print(f\"- {nombre} ({tiempo} h)\")\n",
    "\n",
    "#     print(f\"\\n🧾 Total de juegos jugados: {len(juegos_usuario)}\")\n"
   ]
  }
 ],
 "metadata": {
  "kernelspec": {
   "display_name": "venv",
   "language": "python",
   "name": "python3"
  },
  "language_info": {
   "codemirror_mode": {
    "name": "ipython",
    "version": 3
   },
   "file_extension": ".py",
   "mimetype": "text/x-python",
   "name": "python",
   "nbconvert_exporter": "python",
   "pygments_lexer": "ipython3",
   "version": "3.11.12"
  }
 },
 "nbformat": 4,
 "nbformat_minor": 5
}
